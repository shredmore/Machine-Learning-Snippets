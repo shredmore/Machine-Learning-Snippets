{
 "cells": [
  {
   "cell_type": "markdown",
   "metadata": {},
   "source": [
    "There are times when you'll want a random sample from your dataframe. The sample() method of a Pandas dataframe makes it easy!  \n",
    "## Example"
   ]
  },
  {
   "cell_type": "code",
   "execution_count": 1,
   "metadata": {
    "collapsed": true
   },
   "outputs": [],
   "source": [
    "import pandas as pd"
   ]
  },
  {
   "cell_type": "code",
   "execution_count": 4,
   "metadata": {
    "collapsed": true
   },
   "outputs": [],
   "source": [
    "#make some data for a df\n",
    "for_df = {'dogs': ['red','blue','green'], 'cats': ['purple', 'yellow', 'orange']} "
   ]
  },
  {
   "cell_type": "code",
   "execution_count": 5,
   "metadata": {
    "collapsed": true
   },
   "outputs": [],
   "source": [
    "#create dataframe of headlies\n",
    "df = pd.DataFrame.from_dict(for_df)"
   ]
  },
  {
   "cell_type": "code",
   "execution_count": 6,
   "metadata": {},
   "outputs": [
    {
     "data": {
      "text/html": [
       "<div>\n",
       "<style>\n",
       "    .dataframe thead tr:only-child th {\n",
       "        text-align: right;\n",
       "    }\n",
       "\n",
       "    .dataframe thead th {\n",
       "        text-align: left;\n",
       "    }\n",
       "\n",
       "    .dataframe tbody tr th {\n",
       "        vertical-align: top;\n",
       "    }\n",
       "</style>\n",
       "<table border=\"1\" class=\"dataframe\">\n",
       "  <thead>\n",
       "    <tr style=\"text-align: right;\">\n",
       "      <th></th>\n",
       "      <th>cats</th>\n",
       "      <th>dogs</th>\n",
       "    </tr>\n",
       "  </thead>\n",
       "  <tbody>\n",
       "    <tr>\n",
       "      <th>0</th>\n",
       "      <td>purple</td>\n",
       "      <td>red</td>\n",
       "    </tr>\n",
       "    <tr>\n",
       "      <th>1</th>\n",
       "      <td>yellow</td>\n",
       "      <td>blue</td>\n",
       "    </tr>\n",
       "    <tr>\n",
       "      <th>2</th>\n",
       "      <td>orange</td>\n",
       "      <td>green</td>\n",
       "    </tr>\n",
       "  </tbody>\n",
       "</table>\n",
       "</div>"
      ],
      "text/plain": [
       "     cats   dogs\n",
       "0  purple    red\n",
       "1  yellow   blue\n",
       "2  orange  green"
      ]
     },
     "execution_count": 6,
     "metadata": {},
     "output_type": "execute_result"
    }
   ],
   "source": [
    "#look at data\n",
    "df"
   ]
  },
  {
   "cell_type": "code",
   "execution_count": 9,
   "metadata": {
    "collapsed": true
   },
   "outputs": [],
   "source": [
    "#get random sample\n",
    "df_2 = df.sample(n=2)"
   ]
  },
  {
   "cell_type": "code",
   "execution_count": 10,
   "metadata": {},
   "outputs": [
    {
     "data": {
      "text/html": [
       "<div>\n",
       "<style>\n",
       "    .dataframe thead tr:only-child th {\n",
       "        text-align: right;\n",
       "    }\n",
       "\n",
       "    .dataframe thead th {\n",
       "        text-align: left;\n",
       "    }\n",
       "\n",
       "    .dataframe tbody tr th {\n",
       "        vertical-align: top;\n",
       "    }\n",
       "</style>\n",
       "<table border=\"1\" class=\"dataframe\">\n",
       "  <thead>\n",
       "    <tr style=\"text-align: right;\">\n",
       "      <th></th>\n",
       "      <th>cats</th>\n",
       "      <th>dogs</th>\n",
       "    </tr>\n",
       "  </thead>\n",
       "  <tbody>\n",
       "    <tr>\n",
       "      <th>0</th>\n",
       "      <td>purple</td>\n",
       "      <td>red</td>\n",
       "    </tr>\n",
       "    <tr>\n",
       "      <th>1</th>\n",
       "      <td>yellow</td>\n",
       "      <td>blue</td>\n",
       "    </tr>\n",
       "  </tbody>\n",
       "</table>\n",
       "</div>"
      ],
      "text/plain": [
       "     cats  dogs\n",
       "0  purple   red\n",
       "1  yellow  blue"
      ]
     },
     "execution_count": 10,
     "metadata": {},
     "output_type": "execute_result"
    }
   ],
   "source": [
    "#look at df from random sample\n",
    "#rerun above cell to generate new\n",
    "#sample\n",
    "df_2"
   ]
  },
  {
   "cell_type": "code",
   "execution_count": 5,
   "metadata": {
    "collapsed": true
   },
   "outputs": [],
   "source": [
    "#export new random sample to csv\n",
    "df_2.to_csv('random_sample.csv')"
   ]
  },
  {
   "cell_type": "markdown",
   "metadata": {},
   "source": [
    "## Docstring"
   ]
  },
  {
   "cell_type": "code",
   "execution_count": 3,
   "metadata": {},
   "outputs": [
    {
     "name": "stdout",
     "output_type": "stream",
     "text": [
      "Help on function sample in module pandas.core.generic:\n",
      "\n",
      "sample(self, n=None, frac=None, replace=False, weights=None, random_state=None, axis=None)\n",
      "    Returns a random sample of items from an axis of object.\n",
      "    \n",
      "    .. versionadded:: 0.16.1\n",
      "    \n",
      "    Parameters\n",
      "    ----------\n",
      "    n : int, optional\n",
      "        Number of items from axis to return. Cannot be used with `frac`.\n",
      "        Default = 1 if `frac` = None.\n",
      "    frac : float, optional\n",
      "        Fraction of axis items to return. Cannot be used with `n`.\n",
      "    replace : boolean, optional\n",
      "        Sample with or without replacement. Default = False.\n",
      "    weights : str or ndarray-like, optional\n",
      "        Default 'None' results in equal probability weighting.\n",
      "        If passed a Series, will align with target object on index. Index\n",
      "        values in weights not found in sampled object will be ignored and\n",
      "        index values in sampled object not in weights will be assigned\n",
      "        weights of zero.\n",
      "        If called on a DataFrame, will accept the name of a column\n",
      "        when axis = 0.\n",
      "        Unless weights are a Series, weights must be same length as axis\n",
      "        being sampled.\n",
      "        If weights do not sum to 1, they will be normalized to sum to 1.\n",
      "        Missing values in the weights column will be treated as zero.\n",
      "        inf and -inf values not allowed.\n",
      "    random_state : int or numpy.random.RandomState, optional\n",
      "        Seed for the random number generator (if int), or numpy RandomState\n",
      "        object.\n",
      "    axis : int or string, optional\n",
      "        Axis to sample. Accepts axis number or name. Default is stat axis\n",
      "        for given data type (0 for Series and DataFrames, 1 for Panels).\n",
      "    \n",
      "    Returns\n",
      "    -------\n",
      "    A new object of same type as caller.\n",
      "    \n",
      "    Examples\n",
      "    --------\n",
      "    \n",
      "    Generate an example ``Series`` and ``DataFrame``:\n",
      "    \n",
      "    >>> s = pd.Series(np.random.randn(50))\n",
      "    >>> s.head()\n",
      "    0   -0.038497\n",
      "    1    1.820773\n",
      "    2   -0.972766\n",
      "    3   -1.598270\n",
      "    4   -1.095526\n",
      "    dtype: float64\n",
      "    >>> df = pd.DataFrame(np.random.randn(50, 4), columns=list('ABCD'))\n",
      "    >>> df.head()\n",
      "              A         B         C         D\n",
      "    0  0.016443 -2.318952 -0.566372 -1.028078\n",
      "    1 -1.051921  0.438836  0.658280 -0.175797\n",
      "    2 -1.243569 -0.364626 -0.215065  0.057736\n",
      "    3  1.768216  0.404512 -0.385604 -1.457834\n",
      "    4  1.072446 -1.137172  0.314194 -0.046661\n",
      "    \n",
      "    Next extract a random sample from both of these objects...\n",
      "    \n",
      "    3 random elements from the ``Series``:\n",
      "    \n",
      "    >>> s.sample(n=3)\n",
      "    27   -0.994689\n",
      "    55   -1.049016\n",
      "    67   -0.224565\n",
      "    dtype: float64\n",
      "    \n",
      "    And a random 10% of the ``DataFrame`` with replacement:\n",
      "    \n",
      "    >>> df.sample(frac=0.1, replace=True)\n",
      "               A         B         C         D\n",
      "    35  1.981780  0.142106  1.817165 -0.290805\n",
      "    49 -1.336199 -0.448634 -0.789640  0.217116\n",
      "    40  0.823173 -0.078816  1.009536  1.015108\n",
      "    15  1.421154 -0.055301 -1.922594 -0.019696\n",
      "    6  -0.148339  0.832938  1.787600 -1.383767\n",
      "\n"
     ]
    }
   ],
   "source": [
    "help(pd.DataFrame.sample)"
   ]
  }
 ],
 "metadata": {
  "kernelspec": {
   "display_name": "Python 3",
   "language": "python",
   "name": "python3"
  },
  "language_info": {
   "codemirror_mode": {
    "name": "ipython",
    "version": 3
   },
   "file_extension": ".py",
   "mimetype": "text/x-python",
   "name": "python",
   "nbconvert_exporter": "python",
   "pygments_lexer": "ipython3",
   "version": "3.6.1"
  }
 },
 "nbformat": 4,
 "nbformat_minor": 2
}
