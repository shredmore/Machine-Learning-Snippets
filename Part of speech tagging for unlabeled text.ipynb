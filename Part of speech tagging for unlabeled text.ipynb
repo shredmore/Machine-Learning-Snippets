{
 "cells": [
  {
   "cell_type": "markdown",
   "metadata": {},
   "source": [
    "## Label parts of speech for unlabeled text"
   ]
  },
  {
   "cell_type": "markdown",
   "metadata": {},
   "source": [
    "Often, you will have text and you want to remove specific parts of speech (e.g., nouns, verbs, etc.) but the text is not labeled. Using the nltk package you can label your text!"
   ]
  },
  {
   "cell_type": "code",
   "execution_count": 1,
   "metadata": {
    "collapsed": true
   },
   "outputs": [],
   "source": [
    "import nltk"
   ]
  },
  {
   "cell_type": "code",
   "execution_count": 8,
   "metadata": {},
   "outputs": [],
   "source": [
    "text = nltk.word_tokenize(\"I had a really nice day today. It was sunny outside.\")"
   ]
  },
  {
   "cell_type": "code",
   "execution_count": 10,
   "metadata": {},
   "outputs": [
    {
     "name": "stdout",
     "output_type": "stream",
     "text": [
      "[('I', 'PRP'), ('had', 'VBD'), ('a', 'DT'), ('really', 'RB'), ('nice', 'JJ'), ('day', 'NN'), ('today', 'NN'), ('.', '.'), ('It', 'PRP'), ('was', 'VBD'), ('sunny', 'JJ'), ('outside', 'IN'), ('.', '.')]\n"
     ]
    }
   ],
   "source": [
    "sent = nltk.pos_tag(text)\n",
    "print(sent)"
   ]
  },
  {
   "cell_type": "code",
   "execution_count": 11,
   "metadata": {
    "collapsed": true
   },
   "outputs": [],
   "source": [
    "#filter out verbs\n",
    "new_sent = []\n",
    "for i in sent:\n",
    "    if i[1] == 'VBD':\n",
    "        continue\n",
    "    else:\n",
    "        new_sent.append(i[0])"
   ]
  },
  {
   "cell_type": "code",
   "execution_count": 15,
   "metadata": {},
   "outputs": [
    {
     "data": {
      "text/plain": [
       "'I a really nice day today . It sunny outside .'"
      ]
     },
     "execution_count": 15,
     "metadata": {},
     "output_type": "execute_result"
    }
   ],
   "source": [
    "' '.join(new_sent)"
   ]
  }
 ],
 "metadata": {
  "kernelspec": {
   "display_name": "Python 3",
   "language": "python",
   "name": "python3"
  },
  "language_info": {
   "codemirror_mode": {
    "name": "ipython",
    "version": 3
   },
   "file_extension": ".py",
   "mimetype": "text/x-python",
   "name": "python",
   "nbconvert_exporter": "python",
   "pygments_lexer": "ipython3",
   "version": "3.6.1"
  }
 },
 "nbformat": 4,
 "nbformat_minor": 2
}
