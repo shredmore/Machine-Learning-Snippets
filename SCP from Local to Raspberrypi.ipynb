{
 "cells": [
  {
   "cell_type": "markdown",
   "metadata": {},
   "source": [
    "## How to SCP a file from my local machine to my Raspberrypi 3"
   ]
  },
  {
   "cell_type": "markdown",
   "metadata": {},
   "source": [
    "There are many situations where one will need to copy a file from their computer to their raspberrypi or any Linux based server. The bash commands below will be helpful to do so."
   ]
  },
  {
   "cell_type": "markdown",
   "metadata": {},
   "source": [
    "`$scp -P 1234 file/to/send_to_pi pi@ip_of_pi:path/to/send_file_to`  \n",
    "\n",
    "I'm using the -P to specify a specific port to use to connect to my pi. If you haven't set up a custom port you won't need to include the -P or 1234 after it. If you have, replace 1234 with the port you use to connect to your pi.  \n",
    "\n",
    "`$scp -P 1515 ~/Documents/housing_data.csv pi@shredmore:~/`  \n",
    "\n",
    "The above is a more realistic example of copying housing_data.csv from my laptop to my Pi."
   ]
  },
  {
   "cell_type": "markdown",
   "metadata": {},
   "source": [
    "## SCP from Pi"
   ]
  },
  {
   "cell_type": "markdown",
   "metadata": {},
   "source": [
    "Sometimes it might be necessary to do a  `$sudo scp`  because of permissions. In this case the command would look something like:  \n",
    "\n",
    "`$sudo scp bthompson@laptops_ip:path/to/file /place/for/file/on/pi`  \n",
    "\n",
    "and be ran on the pi rather than the local machine."
   ]
  }
 ],
 "metadata": {
  "kernelspec": {
   "display_name": "Python 3",
   "language": "python",
   "name": "python3"
  },
  "language_info": {
   "codemirror_mode": {
    "name": "ipython",
    "version": 3
   },
   "file_extension": ".py",
   "mimetype": "text/x-python",
   "name": "python",
   "nbconvert_exporter": "python",
   "pygments_lexer": "ipython3",
   "version": "3.6.1"
  }
 },
 "nbformat": 4,
 "nbformat_minor": 2
}
