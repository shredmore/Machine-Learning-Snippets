{
 "cells": [
  {
   "cell_type": "markdown",
   "metadata": {},
   "source": [
    "tf-idf is a way to encode words numerically, so they can be fed into a model (e.g., Logistic Regression, Multionomial Bayes, etc.). As you can see below it creates a sparse matrix where every document has zeros for most word indices and tf-idf scores in the word indices where the words in the document are present (i.e. if the total number of distinct words across all documents in your corpus is ten thousand then each individual document's tf-idf representation will be a 1,10000 sparse matrix)."
   ]
  },
  {
   "cell_type": "code",
   "execution_count": 27,
   "metadata": {
    "collapsed": true
   },
   "outputs": [],
   "source": [
    "from sklearn.feature_extraction.text import TfidfVectorizer"
   ]
  },
  {
   "cell_type": "code",
   "execution_count": 2,
   "metadata": {
    "collapsed": true
   },
   "outputs": [],
   "source": [
    "#create three example documents\n",
    "x = [\"hello world\", \"I ate the bagel.\", \"what the hell, Danny!\"]"
   ]
  },
  {
   "cell_type": "code",
   "execution_count": 16,
   "metadata": {
    "collapsed": true
   },
   "outputs": [],
   "source": [
    "#create the vectorizer\n",
    "vec = TfidfVectorizer()\n",
    "\n",
    "#conver the documents to tf-df vectors\n",
    "transform_examples = vec.fit_transform(x)"
   ]
  },
  {
   "cell_type": "code",
   "execution_count": 17,
   "metadata": {},
   "outputs": [
    {
     "data": {
      "text/plain": [
       "(3, 8)"
      ]
     },
     "execution_count": 17,
     "metadata": {},
     "output_type": "execute_result"
    }
   ],
   "source": [
    "#show the shape of the newly created tf-idf matrix\n",
    "transform_examples.shape"
   ]
  },
  {
   "cell_type": "code",
   "execution_count": 15,
   "metadata": {},
   "outputs": [
    {
     "data": {
      "text/plain": [
       "{'ate': 0,\n",
       " 'bagel': 1,\n",
       " 'danny': 2,\n",
       " 'hell': 3,\n",
       " 'hello': 4,\n",
       " 'the': 5,\n",
       " 'what': 6,\n",
       " 'world': 7}"
      ]
     },
     "execution_count": 15,
     "metadata": {},
     "output_type": "execute_result"
    }
   ],
   "source": [
    "#see the entire vocabulary of the vectorizer\n",
    "vec.vocabulary_"
   ]
  },
  {
   "cell_type": "code",
   "execution_count": 18,
   "metadata": {},
   "outputs": [
    {
     "data": {
      "text/plain": [
       "array([ 1.69314718,  1.69314718,  1.69314718,  1.69314718,  1.69314718,\n",
       "        1.28768207,  1.69314718,  1.69314718])"
      ]
     },
     "execution_count": 18,
     "metadata": {},
     "output_type": "execute_result"
    }
   ],
   "source": [
    "#view the idf scores of each word\n",
    "#NOTE: they are identical bc each word is only present once except for 'the'\n",
    "vec.idf_"
   ]
  },
  {
   "cell_type": "code",
   "execution_count": 19,
   "metadata": {},
   "outputs": [
    {
     "data": {
      "text/plain": [
       "set()"
      ]
     },
     "execution_count": 19,
     "metadata": {},
     "output_type": "execute_result"
    }
   ],
   "source": [
    "#check stop words, I'm not sure why 'I' isn't showing\n",
    "vec.stop_words_"
   ]
  },
  {
   "cell_type": "code",
   "execution_count": 24,
   "metadata": {},
   "outputs": [
    {
     "data": {
      "text/plain": [
       "<1x8 sparse matrix of type '<class 'numpy.float64'>'\n",
       "\twith 4 stored elements in Compressed Sparse Row format>"
      ]
     },
     "execution_count": 24,
     "metadata": {},
     "output_type": "execute_result"
    }
   ],
   "source": [
    "#show the third document's matrix\n",
    "transform_examples[2]"
   ]
  },
  {
   "cell_type": "code",
   "execution_count": 28,
   "metadata": {},
   "outputs": [
    {
     "data": {
      "text/plain": [
       "array([[ 0.        ,  0.        ,  0.        ,  0.        ,  0.70710678,\n",
       "         0.        ,  0.        ,  0.70710678],\n",
       "       [ 0.62276601,  0.62276601,  0.        ,  0.        ,  0.        ,\n",
       "         0.4736296 ,  0.        ,  0.        ],\n",
       "       [ 0.        ,  0.        ,  0.52863461,  0.52863461,  0.        ,\n",
       "         0.40204024,  0.52863461,  0.        ]])"
      ]
     },
     "execution_count": 28,
     "metadata": {},
     "output_type": "execute_result"
    }
   ],
   "source": [
    "#show the matrix of all documents\n",
    "transform_examples.toarray()"
   ]
  }
 ],
 "metadata": {
  "kernelspec": {
   "display_name": "Python 3",
   "language": "python",
   "name": "python3"
  },
  "language_info": {
   "codemirror_mode": {
    "name": "ipython",
    "version": 3
   },
   "file_extension": ".py",
   "mimetype": "text/x-python",
   "name": "python",
   "nbconvert_exporter": "python",
   "pygments_lexer": "ipython3",
   "version": "3.6.1"
  }
 },
 "nbformat": 4,
 "nbformat_minor": 2
}
