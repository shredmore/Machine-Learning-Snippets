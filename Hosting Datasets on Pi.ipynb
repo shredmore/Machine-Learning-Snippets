{
 "cells": [
  {
   "cell_type": "markdown",
   "metadata": {},
   "source": [
    "## How to host datasets for others to download"
   ]
  },
  {
   "cell_type": "markdown",
   "metadata": {},
   "source": [
    "Often, a data set will be too large to add to git. This might be a problem if you are trying to create notebooks and code that are reliant on said data. One way around this is to host the data somewhere else (e.g., Raspberry Pi) where it can be easily downloaded."
   ]
  },
  {
   "cell_type": "markdown",
   "metadata": {},
   "source": [
    "Steps to host data on Rapberry Pi:   \n",
    "1. Install nginx, or web server of choice on Pi.  \n",
    "2. Put data files in folder of web server (e.g., `~/var/www/html/data_file` )   \n",
    "3. Consider changing ports so your server isn't on port 80    \n",
    "4. Now people can use curl to download data from your Pi! "
   ]
  },
  {
   "cell_type": "code",
   "execution_count": 1,
   "metadata": {},
   "outputs": [
    {
     "name": "stdout",
     "output_type": "stream",
     "text": [
      "  % Total    % Received % Xferd  Average Speed   Time    Time     Time  Current\n",
      "                                 Dload  Upload   Total   Spent    Left  Speed\n",
      "100    15  100    15    0     0    158      0 --:--:-- --:--:-- --:--:--   535\n"
     ]
    }
   ],
   "source": [
    "#download from shred's Pi\n",
    "!curl \"shredmore.chickenkiller.com:1723/test.txt\" > ~/Downloads/text.txt"
   ]
  }
 ],
 "metadata": {
  "kernelspec": {
   "display_name": "Python 3",
   "language": "python",
   "name": "python3"
  },
  "language_info": {
   "codemirror_mode": {
    "name": "ipython",
    "version": 3
   },
   "file_extension": ".py",
   "mimetype": "text/x-python",
   "name": "python",
   "nbconvert_exporter": "python",
   "pygments_lexer": "ipython3",
   "version": "3.6.1"
  }
 },
 "nbformat": 4,
 "nbformat_minor": 2
}
