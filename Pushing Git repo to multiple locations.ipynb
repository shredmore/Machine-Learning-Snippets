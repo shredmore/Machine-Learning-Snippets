{
 "cells": [
  {
   "cell_type": "markdown",
   "metadata": {},
   "source": [
    "## Pushing Git Repo to Multiple Locations"
   ]
  },
  {
   "cell_type": "markdown",
   "metadata": {},
   "source": [
    "You may find yourself in a situation where you need/want to push a git repo that you've been working on to a different repo (i.e., a class you took had you work from the class repo and now that class is over you'd like a copy of the work you've done in a repo under your personal git user for future reference.   \n",
    "\n",
    "This is a straight forward process:  \n",
    "1)create a new repo under your personal user that you'd like to hold the work  \n",
    "2)Add this new repo to the repo where the work has been done `git remote add name_repo repo_url`  \n",
    "3)Push the existing repo to the newly added one `git push whatever_you_put_in_name_repo_in_step_2 branch(probably master)`   \n",
    "     - You may have to pull and commit to the new repo before it will accept any pushes\n",
    "     \n",
    "Note: you can always check the repos \"connected\" to a project by running `git remote -v`. This will list all the remotes, including origin, that you can push and pull to/from. When you are calling `git push origin master` and `git pull origin master` 'origin' is the name of a remote."
   ]
  }
 ],
 "metadata": {
  "kernelspec": {
   "display_name": "Python 3",
   "language": "python",
   "name": "python3"
  },
  "language_info": {
   "codemirror_mode": {
    "name": "ipython",
    "version": 3
   },
   "file_extension": ".py",
   "mimetype": "text/x-python",
   "name": "python",
   "nbconvert_exporter": "python",
   "pygments_lexer": "ipython3",
   "version": "3.6.1"
  }
 },
 "nbformat": 4,
 "nbformat_minor": 2
}
